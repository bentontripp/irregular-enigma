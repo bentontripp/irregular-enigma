{
 "cells": [
  {
   "cell_type": "code",
   "execution_count": 49,
   "metadata": {},
   "outputs": [],
   "source": [
    "import numpy as np\n",
    "size = 9\n",
    "x = np.array([[1, 2, 3, 4, 5, 6, 7, 8, 9], \n",
    "              [4, 5, 6, 7, 8, 9, 1, 2, 3], \n",
    "              [7, 8, 9, 1, 2, 3, 4, 5, 6], \n",
    "              [2, 1, 4, 3, 6, 5, 8, 9, 7], \n",
    "              [3, 6, 5, 8, 9, 7, 2, 1, 4],\n",
    "              [8, 9, 7, 2, 1, 4, 3, 6, 5], \n",
    "              [5, 3, 1, 6, 4, 2, 9, 7, 8],\n",
    "              [6, 4, 2, 9, 7, 8, 5, 3, 1], \n",
    "              [9, 7, 8, 5, 3, 1, 6, 4, 2]])\n",
    "\n",
    "def gen_upper_left_x(size=9):\n",
    "    out = list()\n",
    "    for i in range(0, size):\n",
    "        out += [i]*(size-i)\n",
    "    return np.array(out)\n",
    "\n",
    "def gen_upper_left_y(size=9):\n",
    "    out = list()\n",
    "    for i in range(0, size):\n",
    "        out += list(np.arange(0, size-i))\n",
    "    return np.array(out)\n",
    "\n",
    "def gen_lower_right_x(size=9):\n",
    "    out = list()\n",
    "    for i in range(0, size):\n",
    "        out += list(np.arange(i, size))\n",
    "    return np.array(out)\n",
    "\n",
    "def gen_lower_right_y(size=9):\n",
    "    out = list()\n",
    "    for i in range(0, size):\n",
    "        out += [size-i-1]*(size-i)\n",
    "    return np.array(out)\n",
    "\n",
    "def gen_ul_indices(size=9):\n",
    "    return [(x, y) for x, y in zip(gen_upper_left_x(size), gen_upper_left_y(size))]\n",
    "\n",
    "def gen_ll_indices(size=9):\n",
    "    return [(x, y) for x, y in zip(np.tril_indices(size)[0], np.tril_indices(size)[1])]\n",
    "\n",
    "def gen_ur_indices(size=9):\n",
    "    return [(x, y) for x, y in zip(np.triu_indices(size)[0], np.triu_indices(size)[1])]\n",
    "\n",
    "def gen_lr_indices(size=9):\n",
    "    return [(x, y) for x, y in zip(gen_lower_right_x(size), gen_lower_right_y(size))]\n"
   ]
  },
  {
   "cell_type": "code",
   "execution_count": 50,
   "metadata": {},
   "outputs": [
    {
     "data": {
      "text/plain": [
       "array([9, 3, 6, 7, 4, 5, 8, 1, 2, 2, 5, 9, 1, 6, 7, 3, 4, 4, 8, 2, 3, 9,\n",
       "       5, 6, 5, 7, 4, 2, 8, 1, 9, 1, 4, 7, 3, 2, 6, 9, 5, 1, 2, 8, 4, 7,\n",
       "       9])"
      ]
     },
     "execution_count": 50,
     "metadata": {},
     "output_type": "execute_result"
    }
   ],
   "source": [
    "x[(gen_lower_right_x(size), gen_lower_right_y(size))]"
   ]
  }
 ],
 "metadata": {
  "kernelspec": {
   "display_name": "Python 3.10.5 ('jigsaw_env': venv)",
   "language": "python",
   "name": "python3"
  },
  "language_info": {
   "codemirror_mode": {
    "name": "ipython",
    "version": 3
   },
   "file_extension": ".py",
   "mimetype": "text/x-python",
   "name": "python",
   "nbconvert_exporter": "python",
   "pygments_lexer": "ipython3",
   "version": "3.10.5"
  },
  "orig_nbformat": 4,
  "vscode": {
   "interpreter": {
    "hash": "65308ab95ca2059ab6a572150b998c19e13f0c3c5d6baa73776fb59d4c9c22ff"
   }
  }
 },
 "nbformat": 4,
 "nbformat_minor": 2
}
