{
 "cells": [
  {
   "cell_type": "code",
   "execution_count": 30,
   "metadata": {},
   "outputs": [
    {
     "data": {
      "text/plain": [
       "[(0, 0),\n",
       " (0, 1),\n",
       " (0, 2),\n",
       " (0, 3),\n",
       " (0, 4),\n",
       " (0, 5),\n",
       " (0, 6),\n",
       " (0, 7),\n",
       " (0, 8),\n",
       " (1, 0),\n",
       " (1, 1),\n",
       " (1, 2),\n",
       " (1, 3),\n",
       " (1, 4),\n",
       " (1, 5),\n",
       " (1, 6),\n",
       " (1, 7),\n",
       " (2, 0),\n",
       " (2, 1),\n",
       " (2, 2),\n",
       " (2, 3),\n",
       " (2, 4),\n",
       " (2, 5),\n",
       " (2, 6),\n",
       " (3, 0),\n",
       " (3, 1),\n",
       " (3, 2),\n",
       " (3, 3),\n",
       " (3, 4),\n",
       " (3, 5),\n",
       " (4, 0),\n",
       " (4, 1),\n",
       " (4, 2),\n",
       " (4, 3),\n",
       " (4, 4),\n",
       " (5, 0),\n",
       " (5, 1),\n",
       " (5, 2),\n",
       " (5, 3),\n",
       " (6, 0),\n",
       " (6, 1),\n",
       " (6, 2),\n",
       " (7, 0),\n",
       " (7, 1),\n",
       " (8, 0)]"
      ]
     },
     "execution_count": 30,
     "metadata": {},
     "output_type": "execute_result"
    }
   ],
   "source": [
    "import numpy as np\n",
    "size = 9\n",
    "x = np.array([[1, 2, 3, 4, 5, 6, 7, 8, 9], \n",
    "              [4, 5, 6, 7, 8, 9, 1, 2, 3], \n",
    "              [7, 8, 9, 1, 2, 3, 4, 5, 6], \n",
    "              [2, 1, 4, 3, 6, 5, 8, 9, 7], \n",
    "              [3, 6, 5, 8, 9, 7, 2, 1, 4],\n",
    "              [8, 9, 7, 2, 1, 4, 3, 6, 5], \n",
    "              [5, 3, 1, 6, 4, 2, 9, 7, 8],\n",
    "              [6, 4, 2, 9, 7, 8, 5, 3, 1], \n",
    "              [9, 7, 8, 5, 3, 1, 6, 4, 2]])\n",
    "\n",
    "def gen_upper_left_x(size=9):\n",
    "    offset = 0\n",
    "    out = list()\n",
    "    for i in range(0, size):\n",
    "        out += [i]*(size-offset)\n",
    "        offset += 1\n",
    "    return np.array(out)\n",
    "\n",
    "def gen_upper_left_y(size=9):\n",
    "    offset = 0\n",
    "    out = list()\n",
    "    for i in range(0, size):\n",
    "        out += list(np.arange(0, size-offset))\n",
    "        offset += 1\n",
    "    return np.array(out)\n",
    "\n",
    "def gen_ul_indices(size=9):\n",
    "    return [(x, y) for x, y in zip(gen_upper_left_x(size), gen_upper_left_y(size))]\n",
    "\n",
    "def gen_ll_indices(size=9):\n",
    "    return [(x, y) for x, y in zip(np.tril_indices(size)[0], np.tril_indices(size)[1])]\n",
    "\n",
    "def gen_ur_indices(size=9):\n",
    "    return [(x, y) for x, y in zip(np.triu_indices(size)[0], np.triu_indices(size)[1])]"
   ]
  },
  {
   "cell_type": "code",
   "execution_count": 24,
   "metadata": {},
   "outputs": [
    {
     "data": {
      "text/plain": [
       "(array([0, 1, 1, 2, 2, 2, 3, 3, 3, 3, 4, 4, 4, 4, 4, 5, 5, 5, 5, 5, 5, 6,\n",
       "        6, 6, 6, 6, 6, 6, 7, 7, 7, 7, 7, 7, 7, 7, 8, 8, 8, 8, 8, 8, 8, 8,\n",
       "        8]),\n",
       " array([0, 0, 1, 0, 1, 2, 0, 1, 2, 3, 0, 1, 2, 3, 4, 0, 1, 2, 3, 4, 5, 0,\n",
       "        1, 2, 3, 4, 5, 6, 0, 1, 2, 3, 4, 5, 6, 7, 0, 1, 2, 3, 4, 5, 6, 7,\n",
       "        8]))"
      ]
     },
     "execution_count": 24,
     "metadata": {},
     "output_type": "execute_result"
    }
   ],
   "source": [
    "np.triu_indices(9)"
   ]
  }
 ],
 "metadata": {
  "kernelspec": {
   "display_name": "Python 3.10.5 ('jigsaw_env': venv)",
   "language": "python",
   "name": "python3"
  },
  "language_info": {
   "codemirror_mode": {
    "name": "ipython",
    "version": 3
   },
   "file_extension": ".py",
   "mimetype": "text/x-python",
   "name": "python",
   "nbconvert_exporter": "python",
   "pygments_lexer": "ipython3",
   "version": "3.10.5"
  },
  "orig_nbformat": 4,
  "vscode": {
   "interpreter": {
    "hash": "65308ab95ca2059ab6a572150b998c19e13f0c3c5d6baa73776fb59d4c9c22ff"
   }
  }
 },
 "nbformat": 4,
 "nbformat_minor": 2
}
