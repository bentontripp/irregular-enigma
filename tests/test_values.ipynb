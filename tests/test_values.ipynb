{
 "cells": [
  {
   "cell_type": "code",
   "execution_count": 2,
   "metadata": {},
   "outputs": [],
   "source": [
    "import numpy as np\n",
    "size = 9\n",
    "x = np.array([[1, 2, 3, 4, 5, 6, 7, 8, 9], \n",
    "              [4, 5, 6, 7, 8, 9, 1, 2, 3], \n",
    "              [7, 8, 9, 1, 2, 3, 4, 5, 6], \n",
    "              [2, 1, 4, 3, 6, 5, 8, 9, 7], \n",
    "              [3, 6, 5, 8, 9, 7, 2, 1, 4],\n",
    "              [8, 9, 7, 2, 1, 4, 3, 6, 5], \n",
    "              [5, 3, 1, 6, 4, 2, 9, 7, 8],\n",
    "              [6, 4, 2, 9, 7, 8, 5, 3, 1], \n",
    "              [9, 7, 8, 5, 3, 1, 6, 4, 2]])\n",
    "\n",
    "def gen_upper_left_x(size=9):\n",
    "    out = list()\n",
    "    for i in range(0, size):\n",
    "        out += [i]*(size-i)\n",
    "    return np.array(out)\n",
    "\n",
    "def gen_upper_left_y(size=9):\n",
    "    out = list()\n",
    "    for i in range(0, size):\n",
    "        out += list(np.arange(0, size-i))\n",
    "    return np.array(out)\n",
    "\n",
    "def gen_lower_right_x(size=9):\n",
    "    out = list()\n",
    "    for i in range(0, size):\n",
    "        out += list(np.arange(i, size))\n",
    "    return np.array(out)\n",
    "\n",
    "def gen_lower_right_y(size=9):\n",
    "    out = list()\n",
    "    for i in range(0, size):\n",
    "        out += [size-i-1]*(size-i)\n",
    "    return np.array(out)\n",
    "\n",
    "def gen_ul_indices(size=9):\n",
    "    return [(x, y) for x, y in zip(gen_upper_left_x(size), gen_upper_left_y(size))]\n",
    "\n",
    "def gen_ll_indices(size=9):\n",
    "    return [(x, y) for x, y in zip(np.tril_indices(size)[0], np.tril_indices(size)[1])]\n",
    "\n",
    "def gen_ur_indices(size=9):\n",
    "    return [(x, y) for x, y in zip(np.triu_indices(size)[0], np.triu_indices(size)[1])]\n",
    "\n",
    "def gen_lr_indices(size=9):\n",
    "    return [(x, y) for x, y in zip(gen_lower_right_x(size), gen_lower_right_y(size))]\n"
   ]
  },
  {
   "cell_type": "code",
   "execution_count": 7,
   "metadata": {},
   "outputs": [
    {
     "data": {
      "text/plain": [
       "[((0, 0), [(1, 0)]),\n",
       " ((1, 0), [(0, 0), (2, 0)]),\n",
       " ((1, 1), [(2, 1)]),\n",
       " ((2, 0), [(1, 0), (3, 0)]),\n",
       " ((2, 1), [(1, 1), (3, 1)]),\n",
       " ((2, 2), [(3, 2)]),\n",
       " ((3, 0), [(2, 0), (4, 0)]),\n",
       " ((3, 1), [(2, 1), (4, 1)]),\n",
       " ((3, 2), [(2, 2), (4, 2)]),\n",
       " ((3, 3), [(4, 3)]),\n",
       " ((4, 0), [(3, 0), (5, 0)]),\n",
       " ((4, 1), [(3, 1), (5, 1)]),\n",
       " ((4, 2), [(3, 2), (5, 2)]),\n",
       " ((4, 3), [(3, 3), (5, 3)]),\n",
       " ((4, 4), [(5, 4)]),\n",
       " ((5, 0), [(4, 0), (6, 0)]),\n",
       " ((5, 1), [(4, 1), (6, 1)]),\n",
       " ((5, 2), [(4, 2), (6, 2)]),\n",
       " ((5, 3), [(4, 3), (6, 3)]),\n",
       " ((5, 4), [(4, 4), (6, 4)]),\n",
       " ((5, 5), [(6, 5)]),\n",
       " ((6, 0), [(5, 0), (7, 0)]),\n",
       " ((6, 1), [(5, 1), (7, 1)]),\n",
       " ((6, 2), [(5, 2), (7, 2)]),\n",
       " ((6, 3), [(5, 3), (7, 3)]),\n",
       " ((6, 4), [(5, 4), (7, 4)]),\n",
       " ((6, 5), [(5, 5), (7, 5)]),\n",
       " ((6, 6), [(7, 6)]),\n",
       " ((7, 0), [(6, 0), (8, 0)]),\n",
       " ((7, 1), [(6, 1), (8, 1)]),\n",
       " ((7, 2), [(6, 2), (8, 2)]),\n",
       " ((7, 3), [(6, 3), (8, 3)]),\n",
       " ((7, 4), [(6, 4), (8, 4)]),\n",
       " ((7, 5), [(6, 5), (8, 5)]),\n",
       " ((7, 6), [(6, 6), (8, 6)]),\n",
       " ((7, 7), [(8, 7)]),\n",
       " ((8, 0), [(7, 0)]),\n",
       " ((8, 1), [(7, 1)]),\n",
       " ((8, 2), [(7, 2)]),\n",
       " ((8, 3), [(7, 3)]),\n",
       " ((8, 4), [(7, 4)]),\n",
       " ((8, 5), [(7, 5)]),\n",
       " ((8, 6), [(7, 6)]),\n",
       " ((8, 7), [(7, 7)]),\n",
       " ((8, 8), [])]"
      ]
     },
     "execution_count": 7,
     "metadata": {},
     "output_type": "execute_result"
    }
   ],
   "source": [
    "ll = gen_ll_indices(9)\n",
    "adjacent = list()\n",
    "for idx in range(0, len(ll)):\n",
    "    i = ll[idx]\n",
    "    idx_list = ll[:idx] + ll[idx + 1:]\n",
    "    adjacent.append((i, [j for j in idx_list if (abs(j[0] - i[0]) == 1 and j[1] - i[1] == 0) or (abs(j[1] - i[1]) == 0 and j[0] - i[0] == 0)]))\n",
    "adjacent"
   ]
  },
  {
   "cell_type": "code",
   "execution_count": 52,
   "metadata": {},
   "outputs": [],
   "source": [
    "from itertools import combinations\n",
    "\n",
    "\n",
    "len(list(combinations(gen_ll_indices(9), 9)))"
   ]
  }
 ],
 "metadata": {
  "kernelspec": {
   "display_name": "Python 3.10.5 ('jigsaw_env': venv)",
   "language": "python",
   "name": "python3"
  },
  "language_info": {
   "codemirror_mode": {
    "name": "ipython",
    "version": 3
   },
   "file_extension": ".py",
   "mimetype": "text/x-python",
   "name": "python",
   "nbconvert_exporter": "python",
   "pygments_lexer": "ipython3",
   "version": "3.10.5"
  },
  "orig_nbformat": 4,
  "vscode": {
   "interpreter": {
    "hash": "65308ab95ca2059ab6a572150b998c19e13f0c3c5d6baa73776fb59d4c9c22ff"
   }
  }
 },
 "nbformat": 4,
 "nbformat_minor": 2
}
