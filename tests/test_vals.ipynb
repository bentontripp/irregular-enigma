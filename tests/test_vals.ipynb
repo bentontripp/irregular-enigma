{
 "cells": [
  {
   "cell_type": "code",
   "execution_count": 27,
   "metadata": {},
   "outputs": [
    {
     "data": {
      "text/plain": [
       "array([[-1, -1, -1, -1, -1, -1, -1, -1, -1],\n",
       "       [-1, -1, -1, -1, -1, -1, -1, -1,  3],\n",
       "       [-1, -1, -1, -1, -1, -1, -1,  5,  6],\n",
       "       [-1, -1, -1, -1, -1, -1,  8,  9,  7],\n",
       "       [-1, -1, -1, -1, -1,  7,  2,  1,  4],\n",
       "       [-1, -1, -1, -1,  1,  4,  3,  6,  5],\n",
       "       [-1, -1, -1,  6,  4,  2,  9,  7,  8],\n",
       "       [-1, -1,  2,  9,  7,  8,  5,  3,  1],\n",
       "       [-1,  7,  8,  5,  3,  1,  6,  4,  2]])"
      ]
     },
     "execution_count": 27,
     "metadata": {},
     "output_type": "execute_result"
    }
   ],
   "source": [
    "\n"
   ]
  },
  {
   "cell_type": "code",
   "execution_count": 71,
   "metadata": {},
   "outputs": [
    {
     "name": "stdout",
     "output_type": "stream",
     "text": [
      "[[1 2 3 4 5 6 7 8 9]\n",
      " [4 5 6 7 8 9 1 2 3]\n",
      " [7 8 9 1 2 3 4 5 6]\n",
      " [2 1 4 3 6 5 8 9 7]\n",
      " [3 6 5 8 9 7 2 1 4]\n",
      " [8 9 7 2 1 4 3 6 5]\n",
      " [5 3 1 6 4 2 9 7 8]\n",
      " [6 4 2 9 7 8 5 3 1]\n",
      " [9 7 8 5 3 1 6 4 2]]\n"
     ]
    },
    {
     "data": {
      "text/html": [
       "<pre style=\"white-space:pre;overflow-x:auto;line-height:normal;font-family:Menlo,'DejaVu Sans Mono',consolas,'Courier New',monospace\"><span style=\"color: #7fbfbf; text-decoration-color: #7fbfbf\">           </span><span style=\"color: #000080; text-decoration-color: #000080\">INFO    </span> Starting corner is LR                                                          <a href=\"file://C:\\Users\\benton.tripp\\AppData\\Local\\Temp\\ipykernel_7248\\998159360.py\" target=\"_blank\"><span style=\"color: #7f7f7f; text-decoration-color: #7f7f7f\">998159360.py</span></a><span style=\"color: #7f7f7f; text-decoration-color: #7f7f7f\">:</span><a href=\"file://C:\\Users\\benton.tripp\\AppData\\Local\\Temp\\ipykernel_7248\\998159360.py#112\" target=\"_blank\"><span style=\"color: #7f7f7f; text-decoration-color: #7f7f7f\">112</span></a>\n",
       "</pre>\n"
      ],
      "text/plain": [
       "\u001b[2;36m          \u001b[0m\u001b[2;36m \u001b[0m\u001b[34mINFO    \u001b[0m Starting corner is LR                                                          \u001b]8;id=177641;file://C:\\Users\\benton.tripp\\AppData\\Local\\Temp\\ipykernel_7248\\998159360.py\u001b\\\u001b[2m998159360.py\u001b[0m\u001b]8;;\u001b\\\u001b[2m:\u001b[0m\u001b]8;id=17757;file://C:\\Users\\benton.tripp\\AppData\\Local\\Temp\\ipykernel_7248\\998159360.py#112\u001b\\\u001b[2m112\u001b[0m\u001b]8;;\u001b\\\n"
      ]
     },
     "metadata": {},
     "output_type": "display_data"
    },
    {
     "data": {
      "text/html": [
       "<pre style=\"white-space:pre;overflow-x:auto;line-height:normal;font-family:Menlo,'DejaVu Sans Mono',consolas,'Courier New',monospace\"><span style=\"color: #7fbfbf; text-decoration-color: #7fbfbf\">           </span><span style=\"color: #000080; text-decoration-color: #000080\">INFO    </span> Starting Region Indices: <span style=\"font-weight: bold\">[(</span><span style=\"color: #008080; text-decoration-color: #008080; font-weight: bold\">8</span>, <span style=\"color: #008080; text-decoration-color: #008080; font-weight: bold\">8</span><span style=\"font-weight: bold\">)</span>, <span style=\"font-weight: bold\">(</span><span style=\"color: #008080; text-decoration-color: #008080; font-weight: bold\">7</span>, <span style=\"color: #008080; text-decoration-color: #008080; font-weight: bold\">8</span><span style=\"font-weight: bold\">)</span>, <span style=\"font-weight: bold\">(</span><span style=\"color: #008080; text-decoration-color: #008080; font-weight: bold\">6</span>, <span style=\"color: #008080; text-decoration-color: #008080; font-weight: bold\">8</span><span style=\"font-weight: bold\">)</span>, <span style=\"font-weight: bold\">(</span><span style=\"color: #008080; text-decoration-color: #008080; font-weight: bold\">5</span>, <span style=\"color: #008080; text-decoration-color: #008080; font-weight: bold\">8</span><span style=\"font-weight: bold\">)</span>, <span style=\"font-weight: bold\">(</span><span style=\"color: #008080; text-decoration-color: #008080; font-weight: bold\">5</span>, <span style=\"color: #008080; text-decoration-color: #008080; font-weight: bold\">7</span><span style=\"font-weight: bold\">)</span>, <span style=\"font-weight: bold\">(</span><span style=\"color: #008080; text-decoration-color: #008080; font-weight: bold\">5</span>, <span style=\"color: #008080; text-decoration-color: #008080; font-weight: bold\">6</span><span style=\"font-weight: bold\">)</span>, <span style=\"font-weight: bold\">(</span><span style=\"color: #008080; text-decoration-color: #008080; font-weight: bold\">5</span>,  <a href=\"file://C:\\Users\\benton.tripp\\AppData\\Local\\Temp\\ipykernel_7248\\998159360.py\" target=\"_blank\"><span style=\"color: #7f7f7f; text-decoration-color: #7f7f7f\">998159360.py</span></a><span style=\"color: #7f7f7f; text-decoration-color: #7f7f7f\">:</span><a href=\"file://C:\\Users\\benton.tripp\\AppData\\Local\\Temp\\ipykernel_7248\\998159360.py#153\" target=\"_blank\"><span style=\"color: #7f7f7f; text-decoration-color: #7f7f7f\">153</span></a>\n",
       "<span style=\"color: #7fbfbf; text-decoration-color: #7fbfbf\">           </span>         <span style=\"color: #008080; text-decoration-color: #008080; font-weight: bold\">5</span><span style=\"font-weight: bold\">)</span>, <span style=\"font-weight: bold\">(</span><span style=\"color: #008080; text-decoration-color: #008080; font-weight: bold\">4</span>, <span style=\"color: #008080; text-decoration-color: #008080; font-weight: bold\">5</span><span style=\"font-weight: bold\">)</span>, <span style=\"font-weight: bold\">(</span><span style=\"color: #008080; text-decoration-color: #008080; font-weight: bold\">4</span>, <span style=\"color: #008080; text-decoration-color: #008080; font-weight: bold\">4</span><span style=\"font-weight: bold\">)]</span>                                                            <span style=\"color: #7f7f7f; text-decoration-color: #7f7f7f\">                </span>\n",
       "<span style=\"color: #7fbfbf; text-decoration-color: #7fbfbf\">           </span>         Starting Region Values: <span style=\"font-weight: bold\">[</span><span style=\"color: #008080; text-decoration-color: #008080; font-weight: bold\">2</span>, <span style=\"color: #008080; text-decoration-color: #008080; font-weight: bold\">1</span>, <span style=\"color: #008080; text-decoration-color: #008080; font-weight: bold\">8</span>, <span style=\"color: #008080; text-decoration-color: #008080; font-weight: bold\">5</span>, <span style=\"color: #008080; text-decoration-color: #008080; font-weight: bold\">6</span>, <span style=\"color: #008080; text-decoration-color: #008080; font-weight: bold\">3</span>, <span style=\"color: #008080; text-decoration-color: #008080; font-weight: bold\">4</span>, <span style=\"color: #008080; text-decoration-color: #008080; font-weight: bold\">7</span>, <span style=\"color: #008080; text-decoration-color: #008080; font-weight: bold\">9</span><span style=\"font-weight: bold\">]</span>                            <span style=\"color: #7f7f7f; text-decoration-color: #7f7f7f\">                </span>\n",
       "</pre>\n"
      ],
      "text/plain": [
       "\u001b[2;36m          \u001b[0m\u001b[2;36m \u001b[0m\u001b[34mINFO    \u001b[0m Starting Region Indices: \u001b[1m[\u001b[0m\u001b[1m(\u001b[0m\u001b[1;36m8\u001b[0m, \u001b[1;36m8\u001b[0m\u001b[1m)\u001b[0m, \u001b[1m(\u001b[0m\u001b[1;36m7\u001b[0m, \u001b[1;36m8\u001b[0m\u001b[1m)\u001b[0m, \u001b[1m(\u001b[0m\u001b[1;36m6\u001b[0m, \u001b[1;36m8\u001b[0m\u001b[1m)\u001b[0m, \u001b[1m(\u001b[0m\u001b[1;36m5\u001b[0m, \u001b[1;36m8\u001b[0m\u001b[1m)\u001b[0m, \u001b[1m(\u001b[0m\u001b[1;36m5\u001b[0m, \u001b[1;36m7\u001b[0m\u001b[1m)\u001b[0m, \u001b[1m(\u001b[0m\u001b[1;36m5\u001b[0m, \u001b[1;36m6\u001b[0m\u001b[1m)\u001b[0m, \u001b[1m(\u001b[0m\u001b[1;36m5\u001b[0m,  \u001b]8;id=256814;file://C:\\Users\\benton.tripp\\AppData\\Local\\Temp\\ipykernel_7248\\998159360.py\u001b\\\u001b[2m998159360.py\u001b[0m\u001b]8;;\u001b\\\u001b[2m:\u001b[0m\u001b]8;id=717924;file://C:\\Users\\benton.tripp\\AppData\\Local\\Temp\\ipykernel_7248\\998159360.py#153\u001b\\\u001b[2m153\u001b[0m\u001b]8;;\u001b\\\n",
       "\u001b[2;36m           \u001b[0m         \u001b[1;36m5\u001b[0m\u001b[1m)\u001b[0m, \u001b[1m(\u001b[0m\u001b[1;36m4\u001b[0m, \u001b[1;36m5\u001b[0m\u001b[1m)\u001b[0m, \u001b[1m(\u001b[0m\u001b[1;36m4\u001b[0m, \u001b[1;36m4\u001b[0m\u001b[1m)\u001b[0m\u001b[1m]\u001b[0m                                                            \u001b[2m                \u001b[0m\n",
       "\u001b[2;36m           \u001b[0m         Starting Region Values: \u001b[1m[\u001b[0m\u001b[1;36m2\u001b[0m, \u001b[1;36m1\u001b[0m, \u001b[1;36m8\u001b[0m, \u001b[1;36m5\u001b[0m, \u001b[1;36m6\u001b[0m, \u001b[1;36m3\u001b[0m, \u001b[1;36m4\u001b[0m, \u001b[1;36m7\u001b[0m, \u001b[1;36m9\u001b[0m\u001b[1m]\u001b[0m                            \u001b[2m                \u001b[0m\n"
      ]
     },
     "metadata": {},
     "output_type": "display_data"
    }
   ],
   "source": [
    "import numpy as np\n",
    "from random import choice \n",
    "import time\n",
    "import logging, functools, operator\n",
    "from rich.logging import RichHandler\n",
    "       \n",
    "logger_blocklist=[\n",
    "        \"matplotlib\",\n",
    "        \"fontTools\",\n",
    "        \"shapely\",\n",
    "        \"PIL\",\n",
    "        \"itertools\"]\n",
    "\n",
    "# Set logging format\n",
    "FORMAT = \"%(message)s\"\n",
    "logging.basicConfig(\n",
    "    level=20, format=FORMAT, datefmt=\"[%X]\", handlers=[RichHandler()]\n",
    ")  # set level=20 or logging.INFO to turn off debug. to not set, level = \"NOTSET\"\n",
    "for module in logger_blocklist:\n",
    "    logging.getLogger(module).setLevel(logging.WARNING)\n",
    "logger = logging.getLogger(\"rich\")\n",
    "\n",
    "\n",
    "global PUZZLE_GEN_START_TIME, TIMEOUT\n",
    "TIMEOUT = 10\n",
    "\n",
    "size = 9\n",
    "x = np.array([[1, 2, 3, 4, 5, 6, 7, 8, 9], \n",
    "              [4, 5, 6, 7, 8, 9, 1, 2, 3], \n",
    "              [7, 8, 9, 1, 2, 3, 4, 5, 6], \n",
    "              [2, 1, 4, 3, 6, 5, 8, 9, 7], \n",
    "              [3, 6, 5, 8, 9, 7, 2, 1, 4],\n",
    "              [8, 9, 7, 2, 1, 4, 3, 6, 5], \n",
    "              [5, 3, 1, 6, 4, 2, 9, 7, 8],\n",
    "              [6, 4, 2, 9, 7, 8, 5, 3, 1], \n",
    "              [9, 7, 8, 5, 3, 1, 6, 4, 2]])\n",
    "\n",
    "def gen_upper_left_y(size=9):\n",
    "    out = list()\n",
    "    for i in range(0, size):\n",
    "        out += [i]*(size-i)\n",
    "    return np.array(out)\n",
    "\n",
    "def gen_upper_left_x(size=9):\n",
    "    out = list()\n",
    "    for i in range(0, size):\n",
    "        out += list(np.arange(0, size-i))\n",
    "    return np.array(out)\n",
    "\n",
    "def gen_lower_right_y(size=9):\n",
    "    out = list()\n",
    "    for i in range(0, size):\n",
    "        out += list(np.arange(i, size))\n",
    "    return np.array(out)\n",
    "\n",
    "def gen_lower_right_x(size=9):\n",
    "    out = list()\n",
    "    for i in range(0, size):\n",
    "        out += [size-i-1]*(size-i)\n",
    "    return np.array(out)\n",
    "\n",
    "def gen_ul_indices(size=9):\n",
    "    return [(y, x) for y, x in zip(gen_upper_left_y(size), gen_upper_left_x(size))]\n",
    "\n",
    "def gen_ll_indices(size=9):\n",
    "    return [(y, x) for y, x in zip(np.tril_indices(size)[0], np.tril_indices(size)[1])]\n",
    "\n",
    "def gen_ur_indices(size=9):\n",
    "    return [(y, x) for y, x in zip(np.triu_indices(size)[0], np.triu_indices(size)[1])]\n",
    "\n",
    "def gen_lr_indices(size=9):\n",
    "    return [(y, x) for y, x in zip(gen_lower_right_y(size), gen_lower_right_x(size))]\n",
    "\n",
    "\n",
    "def random_corner(size):\n",
    "    return choice([(0, 0), (0, size-1), (size-1, 0), (size-1, size-1)])\n",
    "\n",
    "def get_adjacent(tri_ind):\n",
    "    adjacent = dict()\n",
    "    for idx in range(0, len(tri_ind)):\n",
    "        i = tri_ind[idx]\n",
    "        idx_list = tri_ind[:idx] + tri_ind[idx + 1:]\n",
    "        adjacent.update({i: [j for j in idx_list if (abs(j[0] - i[0]) == 1 and j[1] - i[1] == 0) or (abs(j[1] - i[1]) == 1 and j[0] - i[0] == 0)]})\n",
    "    return adjacent\n",
    "\n",
    "def gen_random_region(x, size):\n",
    "    # start w/ random corner\n",
    "    corner = random_corner(size)\n",
    "    # pick a random direction to start, generate available indices and their adjacent indices\n",
    "    if corner == (0, 0):\n",
    "        logger.info('Starting corner is UL')\n",
    "        start_1 = (1, 0)\n",
    "        start_2 = (0, 1)\n",
    "        tri_ind = get_adjacent(gen_ul_indices(size))\n",
    "        column = tuple((i, 0) for i in range(0, size))\n",
    "        row = tuple((0, i) for i in range(0, size))\n",
    "    elif corner == (0, size-1):\n",
    "        logger.info('Starting corner is UR')\n",
    "        start_1 = (1, size-1)\n",
    "        start_2 = (0, size-2)\n",
    "        tri_ind = get_adjacent(gen_ur_indices(size))\n",
    "        column = tuple((i, size-1) for i in range(0, size))\n",
    "        row = tuple((0, i) for i in range(size-1, -1, -1))\n",
    "    elif corner == (size-1, 0):\n",
    "        logger.info('Starting corner is LL')\n",
    "        start_1 = (size-2, 0)\n",
    "        start_2 = (size-1, 1)\n",
    "        tri_ind = get_adjacent(gen_ll_indices(size))\n",
    "        column = tuple((i, 0) for i in range(size-1, -1, -1))\n",
    "        row = tuple((size-1, i) for i in range(0, size))\n",
    "    else:\n",
    "        logger.info('Starting corner is LR')\n",
    "        start_1 = (size-2, size-1)\n",
    "        start_2 = (size-1, size-2)\n",
    "        tri_ind = get_adjacent(gen_lr_indices(size))\n",
    "        column = tuple((i, size-1) for i in range(size-1, -1, -1))\n",
    "        row = tuple((size-1, i) for i in range(size-1, -1, -1))\n",
    "    # start out excluding row & column\n",
    "    exclude = [row, column]\n",
    "    # random starting checks\n",
    "    start_choices = [start_1, start_2]\n",
    "    start = choice(start_choices)\n",
    "    start_choices = [choice for choice in start_choices if choice != start]\n",
    "    # start != corner, so move on \n",
    "    # start building region (of indices, and of values)\n",
    "    region_i = [corner, start]\n",
    "    region_v = [x[corner], x[start]]\n",
    "    next = 2\n",
    "    PUZZLE_GEN_START_TIME = time.time()\n",
    "    while next < size:\n",
    "        if time.time() - PUZZLE_GEN_START_TIME >= TIMEOUT:\n",
    "            raise TimeoutError\n",
    "        # get adjacent\n",
    "        #TODO make sure none are blocked\n",
    "        next_ind = [i for i in tri_ind[region_i[next - 1]] if i not in region_i and x[i] not in region_v and tuple(region_i + [i]) not in exclude]\n",
    "        if len(next_ind) == 0:\n",
    "            if len(region_i) > 2:\n",
    "                exclude.append(tuple(region_i))\n",
    "                region_i.pop(-1)\n",
    "                region_v.pop(-1)\n",
    "            elif len(region_i) == 2 and len(start_choices) == 1:\n",
    "                exclude.append(tuple(region_i))\n",
    "                start = start_choices[0]\n",
    "                region_i = [corner, start]\n",
    "                region_v = [x[corner], x[start]]\n",
    "            else:\n",
    "                raise Exception('There are no possible solutions given this arrangement')\n",
    "        else:\n",
    "            next_ind = choice(next_ind)\n",
    "            region_i.append(next_ind)\n",
    "            region_v.append(x[next_ind])\n",
    "        next = len(region_i)\n",
    "    logger.info('Starting Region Indices: {}\\nStarting Region Values: {}'.format(region_i, region_v))\n",
    "        \n",
    "print(x)\n",
    "gen_random_region(x, size)"
   ]
  }
 ],
 "metadata": {
  "kernelspec": {
   "display_name": "Python 3.10.5 ('jigsaw_env': venv)",
   "language": "python",
   "name": "python3"
  },
  "language_info": {
   "codemirror_mode": {
    "name": "ipython",
    "version": 3
   },
   "file_extension": ".py",
   "mimetype": "text/x-python",
   "name": "python",
   "nbconvert_exporter": "python",
   "pygments_lexer": "ipython3",
   "version": "3.10.5"
  },
  "orig_nbformat": 4,
  "vscode": {
   "interpreter": {
    "hash": "65308ab95ca2059ab6a572150b998c19e13f0c3c5d6baa73776fb59d4c9c22ff"
   }
  }
 },
 "nbformat": 4,
 "nbformat_minor": 2
}
